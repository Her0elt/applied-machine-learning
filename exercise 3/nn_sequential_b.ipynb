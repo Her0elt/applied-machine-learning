{
 "cells": [
  {
   "cell_type": "code",
   "execution_count": 16,
   "source": [
    "import torch\n",
    "import torch.nn as nn\n",
    "import torchvision\n",
    "\n",
    "mnist_train = torchvision.datasets.MNIST('./data', train=True, download=True)\n",
    "x_train = mnist_train.data.reshape(-1, 1, 28, 28).float() \n",
    "y_train = torch.zeros((mnist_train.targets.shape[0], 10))  \n",
    "y_train[torch.arange(mnist_train.targets.shape[0]), mnist_train.targets] = 1 \n",
    "\n",
    "mnist_test = torchvision.datasets.MNIST('./data', train=False, download=True)\n",
    "x_test = mnist_test.data.reshape(-1, 1, 28, 28).float() \n",
    "y_test = torch.zeros((mnist_test.targets.shape[0], 10))  \n",
    "y_test[torch.arange(mnist_test.targets.shape[0]), mnist_test.targets] = 1  \n",
    "\n",
    "mean = x_train.mean()\n",
    "std = x_train.std()\n",
    "x_train = (x_train - mean) / std\n",
    "x_test = (x_test - mean) / std\n",
    "\n",
    "batches = 600\n",
    "x_train_batches = torch.split(x_train, batches)\n",
    "y_train_batches = torch.split(y_train, batches)"
   ],
   "outputs": [],
   "metadata": {}
  },
  {
   "cell_type": "code",
   "execution_count": 17,
   "source": [
    "class ConvolutionalNeuralNetworkModel(nn.Module):\n",
    "    def __init__(self):\n",
    "        super(ConvolutionalNeuralNetworkModel, self).__init__()\n",
    "\n",
    "        self.logits = nn.Sequential(\n",
    "            nn.Conv2d(1, 32, kernel_size=5, padding=2), \n",
    "            nn.MaxPool2d(kernel_size=2), \n",
    "            nn.Conv2d(32, 64, kernel_size=5, padding=2),\n",
    "            nn.MaxPool2d(kernel_size=2), \n",
    "            nn.Flatten(), \n",
    "            nn.Linear(64 * 7 * 7, 1024),\n",
    "            nn.Flatten(), \n",
    "            nn.Linear(1024, 10))\n",
    "\n",
    "    def f(self, x):\n",
    "        return torch.softmax(self.logits(x), dim=1)\n",
    "\n",
    "    def loss(self, x, y):\n",
    "        return nn.functional.cross_entropy(self.logits(x), y.argmax(1))\n",
    "\n",
    "    def accuracy(self, x, y):\n",
    "        return torch.mean(torch.eq(self.f(x).argmax(1), y.argmax(1)).float())"
   ],
   "outputs": [],
   "metadata": {}
  },
  {
   "cell_type": "code",
   "execution_count": 18,
   "source": [
    "model = ConvolutionalNeuralNetworkModel()\n",
    "\n",
    "optimizer = torch.optim.Adam(model.parameters(), 0.001)\n",
    "for epoch in range(20):\n",
    "    for batch in range(len(x_train_batches)):\n",
    "        model.loss(x_train_batches[batch], y_train_batches[batch]).backward() \n",
    "        optimizer.step()  \n",
    "        optimizer.zero_grad()  \n",
    "\n",
    "    print(\"accuracy = %s\" % model.accuracy(x_test, y_test)) "
   ],
   "outputs": [
    {
     "output_type": "stream",
     "name": "stdout",
     "text": [
      "accuracy = tensor(0.9740)\n",
      "accuracy = tensor(0.9815)\n",
      "accuracy = tensor(0.9817)\n",
      "accuracy = tensor(0.9826)\n",
      "accuracy = tensor(0.9790)\n",
      "accuracy = tensor(0.9787)\n",
      "accuracy = tensor(0.9796)\n",
      "accuracy = tensor(0.9824)\n",
      "accuracy = tensor(0.9819)\n",
      "accuracy = tensor(0.9800)\n",
      "accuracy = tensor(0.9762)\n",
      "accuracy = tensor(0.9782)\n",
      "accuracy = tensor(0.9819)\n",
      "accuracy = tensor(0.9782)\n",
      "accuracy = tensor(0.9818)\n",
      "accuracy = tensor(0.9770)\n",
      "accuracy = tensor(0.9820)\n",
      "accuracy = tensor(0.9798)\n",
      "accuracy = tensor(0.9815)\n",
      "accuracy = tensor(0.9791)\n"
     ]
    }
   ],
   "metadata": {}
  }
 ],
 "metadata": {
  "orig_nbformat": 4,
  "language_info": {
   "name": "python",
   "version": "3.8.10",
   "mimetype": "text/x-python",
   "codemirror_mode": {
    "name": "ipython",
    "version": 3
   },
   "pygments_lexer": "ipython3",
   "nbconvert_exporter": "python",
   "file_extension": ".py"
  },
  "kernelspec": {
   "name": "python3",
   "display_name": "Python 3.8.10 64-bit"
  },
  "interpreter": {
   "hash": "916dbcbb3f70747c44a77c7bcd40155683ae19c65e1c03b4aa3499c5328201f1"
  }
 },
 "nbformat": 4,
 "nbformat_minor": 2
}