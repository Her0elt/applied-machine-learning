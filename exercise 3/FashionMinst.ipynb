{
 "cells": [
  {
   "cell_type": "code",
   "execution_count": 13,
   "source": [
    "import torch\r\n",
    "import torch.nn as nn\r\n",
    "import torchvision\r\n",
    "if torch.cuda.is_available(): \r\n",
    "    dev = \"cuda:0\" \r\n",
    "else: \r\n",
    "    dev = \"cpu\" \r\n",
    "device =  torch.device(dev)\r\n",
    "\r\n",
    "\r\n",
    "mnist_train = torchvision.datasets.FashionMNIST('./data/fashion', train=True, download=True)\r\n",
    "x_train = mnist_train.data.reshape(-1, 1, 28, 28).float()  # torch.functional.nn.conv2d argument must include channels (1)\r\n",
    "y_train = torch.zeros((mnist_train.targets.shape[0], 10))  # Create output tensor\r\n",
    "y_train[torch.arange(mnist_train.targets.shape[0]), mnist_train.targets] = 1  # Populate output\r\n",
    "\r\n",
    "mnist_test = torchvision.datasets.FashionMNIST('./data/fashion', train=False, download=True)\r\n",
    "x_test = mnist_test.data.reshape(-1, 1, 28, 28).float()  # torch.functional.nn.conv2d argument must include channels (1)\r\n",
    "y_test = torch.zeros((mnist_test.targets.shape[0], 10))  # Create output tensor\r\n",
    "y_test[torch.arange(mnist_test.targets.shape[0]), mnist_test.targets] = 1  # Populate output\r\n",
    "\r\n",
    "# Normalization of inputs\r\n",
    "mean = x_train.mean()\r\n",
    "std = x_train.std()\r\n",
    "x_train = (x_train - mean) / std\r\n",
    "x_test = (x_test - mean) / std\r\n",
    "\r\n",
    "# Divide training data into batches to speed up optimization\r\n",
    "batches = 600\r\n",
    "x_train_batches = torch.split(x_train, batches)\r\n",
    "y_train_batches = torch.split(y_train, batches)"
   ],
   "outputs": [
    {
     "output_type": "stream",
     "name": "stderr",
     "text": [
      "C:\\Users\\Beast\\AppData\\Roaming\\Python\\Python36\\site-packages\\torchvision\\datasets\\mnist.py:498: UserWarning: The given NumPy array is not writeable, and PyTorch does not support non-writeable tensors. This means you can write to the underlying (supposedly non-writeable) NumPy array using the tensor. You may want to copy the array to protect its data or make it writeable before converting it to a tensor. This type of warning will be suppressed for the rest of this program. (Triggered internally at  ..\\torch\\csrc\\utils\\tensor_numpy.cpp:180.)\n",
      "  return torch.from_numpy(parsed.astype(m[2], copy=False)).view(*s)\n"
     ]
    }
   ],
   "metadata": {}
  },
  {
   "cell_type": "code",
   "execution_count": 14,
   "source": [
    "class ConvolutionalNeuralNetworkModel(nn.Module):\r\n",
    "    def __init__(self):\r\n",
    "        super(ConvolutionalNeuralNetworkModel, self).__init__()\r\n",
    "\r\n",
    "        self.logits = nn.Sequential(\r\n",
    "            nn.Conv2d(1, 32, kernel_size=5, padding=2), \r\n",
    "            nn.MaxPool2d(kernel_size=2), \r\n",
    "            nn.Conv2d(32, 64, kernel_size=5, padding=2),\r\n",
    "            nn.MaxPool2d(kernel_size=2), \r\n",
    "            nn.Flatten(),\r\n",
    "            nn.ReLU(),\r\n",
    "            nn.Linear(64 * 7 * 7, 1024),\r\n",
    "            nn.Flatten(),\r\n",
    "            nn.ReLU(),\r\n",
    "            nn.Linear(1024, 10)).to(device)\r\n",
    "\r\n",
    "    # Predictor\r\n",
    "    def f(self, x):\r\n",
    "        return torch.softmax(self.logits(x), dim=1)\r\n",
    "\r\n",
    "    # Cross Entropy loss\r\n",
    "    def loss(self, x, y):\r\n",
    "        return nn.functional.cross_entropy(self.logits(x), y.argmax(1)).to(device)\r\n",
    "\r\n",
    "    # Accuracy\r\n",
    "    def accuracy(self, x, y):\r\n",
    "        return torch.mean(torch.eq(self.f(x).argmax(1), y.argmax(1)).float()).to(device)"
   ],
   "outputs": [],
   "metadata": {}
  },
  {
   "cell_type": "code",
   "execution_count": 15,
   "source": [
    "model = ConvolutionalNeuralNetworkModel().to(device)\r\n",
    "\r\n",
    "# Optimize: adjust W and b to minimize loss using stochastic gradient descent\r\n",
    "optimizer = torch.optim.Adam(model.parameters(), 0.001)\r\n",
    "for epoch in range(20):\r\n",
    "    for batch in range(len(x_train_batches)):\r\n",
    "        model.loss(x_train_batches[batch].to(device), y_train_batches[batch].to(device)).backward()  # Compute loss gradients\r\n",
    "        optimizer.step()  # Perform optimization by adjusting W and b,\r\n",
    "        optimizer.zero_grad()  # Clear gradients for next step\r\n",
    "\r\n",
    "    print(\"accuracy = %s\" % model.accuracy(x_test.to(device), y_test.to(device))) "
   ],
   "outputs": [
    {
     "output_type": "stream",
     "name": "stderr",
     "text": [
      "C:\\Users\\Beast\\AppData\\Roaming\\Python\\Python36\\site-packages\\torch\\nn\\functional.py:718: UserWarning: Named tensors and all their associated APIs are an experimental feature and subject to change. Please do not use them for anything important until they are released as stable. (Triggered internally at  ..\\c10/core/TensorImpl.h:1156.)\n",
      "  return torch.max_pool2d(input, kernel_size, stride, padding, dilation, ceil_mode)\n"
     ]
    },
    {
     "output_type": "stream",
     "name": "stdout",
     "text": [
      "accuracy = tensor(0.8732, device='cuda:0')\n",
      "accuracy = tensor(0.8903, device='cuda:0')\n",
      "accuracy = tensor(0.8993, device='cuda:0')\n",
      "accuracy = tensor(0.9027, device='cuda:0')\n",
      "accuracy = tensor(0.9083, device='cuda:0')\n",
      "accuracy = tensor(0.9021, device='cuda:0')\n",
      "accuracy = tensor(0.8963, device='cuda:0')\n",
      "accuracy = tensor(0.9072, device='cuda:0')\n",
      "accuracy = tensor(0.9141, device='cuda:0')\n",
      "accuracy = tensor(0.9053, device='cuda:0')\n",
      "accuracy = tensor(0.9143, device='cuda:0')\n",
      "accuracy = tensor(0.9184, device='cuda:0')\n",
      "accuracy = tensor(0.9094, device='cuda:0')\n",
      "accuracy = tensor(0.9104, device='cuda:0')\n",
      "accuracy = tensor(0.9203, device='cuda:0')\n",
      "accuracy = tensor(0.9187, device='cuda:0')\n",
      "accuracy = tensor(0.9165, device='cuda:0')\n",
      "accuracy = tensor(0.9196, device='cuda:0')\n",
      "accuracy = tensor(0.9103, device='cuda:0')\n",
      "accuracy = tensor(0.9111, device='cuda:0')\n"
     ]
    }
   ],
   "metadata": {}
  }
 ],
 "metadata": {
  "orig_nbformat": 4,
  "language_info": {
   "name": "python",
   "version": "3.6.8",
   "mimetype": "text/x-python",
   "codemirror_mode": {
    "name": "ipython",
    "version": 3
   },
   "pygments_lexer": "ipython3",
   "nbconvert_exporter": "python",
   "file_extension": ".py"
  },
  "kernelspec": {
   "name": "python3",
   "display_name": "Python 3.6.8 64-bit"
  },
  "interpreter": {
   "hash": "f7291e4b392a32fbfa525b87d1bbd0a3d888adf3d0deca0c205c61b9e7284b82"
  }
 },
 "nbformat": 4,
 "nbformat_minor": 2
}