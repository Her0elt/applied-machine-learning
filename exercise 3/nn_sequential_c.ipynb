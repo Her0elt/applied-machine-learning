{
 "cells": [
  {
   "cell_type": "code",
   "execution_count": 4,
   "source": [
    "import torch\r\n",
    "import torch.nn as nn\r\n",
    "import torchvision\r\n",
    "if torch.cuda.is_available(): \r\n",
    " dev = \"cuda:0\" \r\n",
    "else: \r\n",
    " dev = \"cpu\" \r\n",
    "device = torch.device(dev)\r\n",
    "\r\n",
    "# Load observations from the mnist dataset. The observations are divided into a training set and a test set\r\n",
    "mnist_train = torchvision.datasets.MNIST('./data', train=True, download=True)\r\n",
    "x_train = mnist_train.data.reshape(-1, 1, 28, 28).float()  # torch.functional.nn.conv2d argument must include channels (1)\r\n",
    "y_train = torch.zeros((mnist_train.targets.shape[0], 10))  # Create output tensor\r\n",
    "y_train[torch.arange(mnist_train.targets.shape[0]), mnist_train.targets] = 1  # Populate output\r\n",
    "\r\n",
    "mnist_test = torchvision.datasets.MNIST('./data', train=False, download=True)\r\n",
    "x_test = mnist_test.data.reshape(-1, 1, 28, 28).float()  # torch.functional.nn.conv2d argument must include channels (1)\r\n",
    "y_test = torch.zeros((mnist_test.targets.shape[0], 10))  # Create output tensor\r\n",
    "y_test[torch.arange(mnist_test.targets.shape[0]), mnist_test.targets] = 1  # Populate output\r\n",
    "\r\n",
    "# Normalization of inputs\r\n",
    "mean = x_train.mean()\r\n",
    "std = x_train.std()\r\n",
    "x_train = (x_train - mean) / std\r\n",
    "x_test = (x_test - mean) / std\r\n",
    "\r\n",
    "# Divide training data into batches to speed up optimization\r\n",
    "batches = 600\r\n",
    "x_train_batches = torch.split(x_train, batches)\r\n",
    "y_train_batches = torch.split(y_train, batches)"
   ],
   "outputs": [],
   "metadata": {}
  },
  {
   "cell_type": "code",
   "execution_count": 5,
   "source": [
    "class ConvolutionalNeuralNetworkModel(nn.Module):\r\n",
    "    def __init__(self):\r\n",
    "        super(ConvolutionalNeuralNetworkModel, self).__init__()\r\n",
    "\r\n",
    "        self.logits = nn.Sequential(\r\n",
    "            nn.Conv2d(1, 32, kernel_size=5, padding=2), \r\n",
    "            nn.ReLU(),\r\n",
    "            nn.MaxPool2d(kernel_size=2), \r\n",
    "            nn.Conv2d(32, 64, kernel_size=5, padding=2),\r\n",
    "            nn.ReLU(),\r\n",
    "            nn.MaxPool2d(kernel_size=2), \r\n",
    "            nn.Flatten(),\r\n",
    "            nn.Linear(64 * 7 * 7, 1024),\r\n",
    "            nn.Flatten(),\r\n",
    "            nn.Linear(1024, 10)).to(device)\r\n",
    "\r\n",
    "    # Predictor\r\n",
    "    def f(self, x):\r\n",
    "        return torch.softmax(self.logits(x), dim=1)\r\n",
    "\r\n",
    "    # Cross Entropy loss\r\n",
    "    def loss(self, x, y):\r\n",
    "        return nn.functional.cross_entropy(self.logits(x), y.argmax(1)).to(device)\r\n",
    "\r\n",
    "    # Accuracy\r\n",
    "    def accuracy(self, x, y):\r\n",
    "        return torch.mean(torch.eq(self.f(x).argmax(1), y.argmax(1)).float()).to(device)"
   ],
   "outputs": [],
   "metadata": {}
  },
  {
   "cell_type": "code",
   "execution_count": 6,
   "source": [
    "model = ConvolutionalNeuralNetworkModel()\r\n",
    "\r\n",
    "# Optimize: adjust W and b to minimize loss using stochastic gradient descent\r\n",
    "optimizer = torch.optim.Adam(model.parameters(), 0.001)\r\n",
    "for epoch in range(20):\r\n",
    "    for batch in range(len(x_train_batches)):\r\n",
    "        model.loss(x_train_batches[batch].to(device), y_train_batches[batch].to(device)).backward()  # Compute loss gradients\r\n",
    "        optimizer.step()  # Perform optimization by adjusting W and b,\r\n",
    "        optimizer.zero_grad()  # Clear gradients for next step\r\n",
    "\r\n",
    "    print(\"accuracy = %s\" % model.accuracy(x_test.to(device), y_test.to(device))) "
   ],
   "outputs": [
    {
     "output_type": "stream",
     "name": "stderr",
     "text": [
      "C:\\Users\\Beast\\AppData\\Roaming\\Python\\Python36\\site-packages\\torch\\nn\\functional.py:718: UserWarning: Named tensors and all their associated APIs are an experimental feature and subject to change. Please do not use them for anything important until they are released as stable. (Triggered internally at  ..\\c10/core/TensorImpl.h:1156.)\n",
      "  return torch.max_pool2d(input, kernel_size, stride, padding, dilation, ceil_mode)\n"
     ]
    },
    {
     "output_type": "stream",
     "name": "stdout",
     "text": [
      "accuracy = tensor(0.9783, device='cuda:0')\n",
      "accuracy = tensor(0.9825, device='cuda:0')\n",
      "accuracy = tensor(0.9857, device='cuda:0')\n",
      "accuracy = tensor(0.9876, device='cuda:0')\n",
      "accuracy = tensor(0.9840, device='cuda:0')\n",
      "accuracy = tensor(0.9886, device='cuda:0')\n",
      "accuracy = tensor(0.9856, device='cuda:0')\n",
      "accuracy = tensor(0.9815, device='cuda:0')\n",
      "accuracy = tensor(0.9887, device='cuda:0')\n",
      "accuracy = tensor(0.9901, device='cuda:0')\n",
      "accuracy = tensor(0.9873, device='cuda:0')\n",
      "accuracy = tensor(0.9868, device='cuda:0')\n",
      "accuracy = tensor(0.9828, device='cuda:0')\n",
      "accuracy = tensor(0.9877, device='cuda:0')\n",
      "accuracy = tensor(0.9850, device='cuda:0')\n",
      "accuracy = tensor(0.9879, device='cuda:0')\n",
      "accuracy = tensor(0.9883, device='cuda:0')\n",
      "accuracy = tensor(0.9885, device='cuda:0')\n",
      "accuracy = tensor(0.9897, device='cuda:0')\n",
      "accuracy = tensor(0.9886, device='cuda:0')\n"
     ]
    }
   ],
   "metadata": {}
  }
 ],
 "metadata": {
  "orig_nbformat": 4,
  "language_info": {
   "name": "python",
   "version": "3.6.8",
   "mimetype": "text/x-python",
   "codemirror_mode": {
    "name": "ipython",
    "version": 3
   },
   "pygments_lexer": "ipython3",
   "nbconvert_exporter": "python",
   "file_extension": ".py"
  },
  "kernelspec": {
   "name": "python3",
   "display_name": "Python 3.6.8 64-bit"
  },
  "interpreter": {
   "hash": "f7291e4b392a32fbfa525b87d1bbd0a3d888adf3d0deca0c205c61b9e7284b82"
  }
 },
 "nbformat": 4,
 "nbformat_minor": 2
}