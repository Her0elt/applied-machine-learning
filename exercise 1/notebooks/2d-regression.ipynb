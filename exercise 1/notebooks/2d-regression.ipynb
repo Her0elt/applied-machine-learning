{
 "cells": [
  {
   "cell_type": "code",
   "execution_count": 1,
   "source": [
    "import torch\n",
    "import pandas as pd\n",
    "import matplotlib.pyplot as plt\n",
    "\n",
    "train = pd.read_csv('../data/length_weight.csv')\n",
    "train_y = train.pop('weight')\n",
    "train_x = torch.tensor(train.to_numpy(), dtype=torch.double).reshape(-1, 1)\n",
    "train_y = torch.tensor(train_y.to_numpy(), dtype=torch.double).reshape(-1, 1)"
   ],
   "outputs": [],
   "metadata": {}
  },
  {
   "cell_type": "code",
   "execution_count": 2,
   "source": [
    "class LinearRegressionModel:\n",
    "    def __init__(self):\n",
    "        self.W = torch.tensor([[0.0]], requires_grad=True, dtype=torch.double)\n",
    "        self.b = torch.tensor([[0.0]], requires_grad=True, dtype=torch.double)\n",
    "    # Predictor\n",
    "    def f(self, x):\n",
    "        return x @ self.W + self.b\n",
    "\n",
    "    def loss(self, x, y):\n",
    "        return torch.nn.functional.mse_loss(self.f(x),y)"
   ],
   "outputs": [],
   "metadata": {}
  },
  {
   "cell_type": "code",
   "execution_count": 3,
   "source": [
    "model = LinearRegressionModel()\n",
    "\n",
    "optimizer = torch.optim.SGD([model.W, model.b], 0.0001)\n",
    "for epoch in range(500000):\n",
    "    model.loss(train_x, train_y).backward()\n",
    "    optimizer.step() \n",
    "\n",
    "    optimizer.zero_grad() \n",
    "\n",
    "print(\"W = %s, b = %s, loss = %s\" % (model.W, model.b, model.loss(train_x, train_y)))"
   ],
   "outputs": [
    {
     "output_type": "stream",
     "name": "stdout",
     "text": [
      "W = tensor([[0.2381]], dtype=torch.float64, requires_grad=True), b = tensor([[-8.4904]], dtype=torch.float64, requires_grad=True), loss = tensor(0.9943, dtype=torch.float64, grad_fn=<MseLossBackward>)\n"
     ]
    }
   ],
   "metadata": {}
  },
  {
   "cell_type": "code",
   "execution_count": 4,
   "source": [
    "plt.plot(train_x, train_y, 'o', label='$(x^{(i)},y^{(i)})$')\n",
    "plt.xlabel('x')\n",
    "plt.ylabel('y')\n",
    "x = torch.tensor([[torch.min(train_x)], [torch.max(train_x)]])\n",
    "plt.plot(x, model.f(x).detach(), label='$\\\\hat y = f(x) = xW+b$')\n",
    "plt.legend()\n",
    "plt.show()"
   ],
   "outputs": [
    {
     "output_type": "display_data",
     "data": {
      "text/plain": [
       "Canvas(toolbar=Toolbar(toolitems=[('Home', 'Reset original view', 'home', 'home'), ('Back', 'Back to previous …"
      ],
      "application/vnd.jupyter.widget-view+json": {
       "version_major": 2,
       "version_minor": 0,
       "model_id": "a37f0ca3657d4f438f081407a70986c2"
      }
     },
     "metadata": {}
    }
   ],
   "metadata": {}
  }
 ],
 "metadata": {
  "orig_nbformat": 4,
  "language_info": {
   "name": "python",
   "version": "3.8.10",
   "mimetype": "text/x-python",
   "codemirror_mode": {
    "name": "ipython",
    "version": 3
   },
   "pygments_lexer": "ipython3",
   "nbconvert_exporter": "python",
   "file_extension": ".py"
  },
  "kernelspec": {
   "name": "python3",
   "display_name": "Python 3.8.10 64-bit"
  },
  "interpreter": {
   "hash": "916dbcbb3f70747c44a77c7bcd40155683ae19c65e1c03b4aa3499c5328201f1"
  }
 },
 "nbformat": 4,
 "nbformat_minor": 2
}