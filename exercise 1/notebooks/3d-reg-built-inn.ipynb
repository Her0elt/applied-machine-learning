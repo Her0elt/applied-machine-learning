{
 "cells": [
  {
   "cell_type": "code",
   "execution_count": 5,
   "source": [
    "%matplotlib widget\n",
    "import torch\n",
    "import pandas as pd\n",
    "import matplotlib.pyplot as plt\n",
    "import torch.nn.functional as F\n",
    "import torch.nn as nn\n",
    "\n",
    "train = pd.read_csv('../data/day_length_weight.csv', dtype='float')\n",
    "train_y = train.pop('day')\n",
    "train_x = torch.tensor(train.to_numpy(), dtype=torch.float).reshape(-1,2)\n",
    "train_y = torch.tensor(train_y.to_numpy(), dtype=torch.float).reshape(-1,1)"
   ],
   "outputs": [],
   "metadata": {}
  },
  {
   "cell_type": "code",
   "execution_count": 6,
   "source": [
    "def fit(num_epochs, model, loss_fn, opt):\n",
    "    for _ in range(num_epochs):\n",
    "            pred = model(train_x)\n",
    "            loss = loss_fn(pred,train_y)\n",
    "            loss.backward()\n",
    "            opt.step()\n",
    "            opt.zero_grad()\n",
    "    W, b =  model.parameters()\n",
    "    print(\"W = %s, b = %s, loss = %s\" % (W.data, b.data, loss_fn(model(train_x), train_y)))\n",
    "    \n",
    "model= nn.Linear(train_x.shape[1], train_y.shape[1])\n",
    "\n",
    "opt = torch.optim.SGD(model.parameters(), lr=1e-4)\n",
    "\n",
    "loss_fn = F.mse_loss\n",
    "\n",
    "fit(100000, model, loss_fn, opt)"
   ],
   "outputs": [
    {
     "output_type": "stream",
     "name": "stdout",
     "text": [
      "W = tensor([[ 6.1328, 77.0065]]), b = tensor([-599.0974]), loss = tensor(55028.2188, grad_fn=<MseLossBackward>)\n"
     ]
    }
   ],
   "metadata": {}
  },
  {
   "cell_type": "code",
   "execution_count": 7,
   "source": [
    "xt =train_x.t()[0]\n",
    "yt =train_x.t()[1]\n",
    "\n",
    "fig = plt.figure('Linear regression 3d')\n",
    "ax = fig.add_subplot(projection='3d', title=\"Model for predicting days lived by weight and length\")\n",
    "# Plot\n",
    "x = torch.linspace(int(torch.min(xt).item()), int(torch.max(xt).item()), 1000) \n",
    "z = torch.linspace(int(torch.min(yt).item()), int(torch.max(xt).item()), 1000) \n",
    "ax.scatter(x.numpy(),  train_y.numpy(), z.numpy(),label='$(x^{(i)},y^{(i)}, z^{(i)})$')\n",
    "ax.scatter(x.numpy(), model(train_x).detach().numpy(), z.numpy() , label='$\\\\hat y = f(x) = xW+b$', color=\"orange\")\n",
    "ax.legend()\n",
    "plt.show()\n"
   ],
   "outputs": [
    {
     "output_type": "display_data",
     "data": {
      "text/plain": [
       "Canvas(toolbar=Toolbar(toolitems=[('Home', 'Reset original view', 'home', 'home'), ('Back', 'Back to previous …"
      ],
      "application/vnd.jupyter.widget-view+json": {
       "version_major": 2,
       "version_minor": 0,
       "model_id": "9049cbc0f2954162af43c0620f323657"
      }
     },
     "metadata": {}
    }
   ],
   "metadata": {}
  }
 ],
 "metadata": {
  "orig_nbformat": 4,
  "language_info": {
   "name": "python",
   "version": "3.8.10",
   "mimetype": "text/x-python",
   "codemirror_mode": {
    "name": "ipython",
    "version": 3
   },
   "pygments_lexer": "ipython3",
   "nbconvert_exporter": "python",
   "file_extension": ".py"
  },
  "kernelspec": {
   "name": "python3",
   "display_name": "Python 3.8.10 64-bit"
  },
  "interpreter": {
   "hash": "31f2aee4e71d21fbe5cf8b01ff0e069b9275f58929596ceb00d14d90e3e16cd6"
  }
 },
 "nbformat": 4,
 "nbformat_minor": 2
}