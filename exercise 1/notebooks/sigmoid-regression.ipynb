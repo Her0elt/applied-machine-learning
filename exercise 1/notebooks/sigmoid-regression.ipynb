{
 "cells": [
  {
   "cell_type": "code",
   "execution_count": 27,
   "source": [
    "import torch\n",
    "import pandas as pd\n",
    "import matplotlib.pyplot as plt\n",
    "\n",
    "train = pd.read_csv('../data/day_head_circumference.csv', dtype='float')\n",
    "train_y = train.pop('head circumference')\n",
    "\n",
    "train_x = torch.tensor(train.to_numpy(), dtype=torch.float)\n",
    "train_y = torch.tensor(train_y.to_numpy(), dtype=torch.float).reshape(-1,1)"
   ],
   "outputs": [],
   "metadata": {}
  },
  {
   "cell_type": "code",
   "execution_count": 28,
   "source": [
    "class NonLinearRegressionModel:\n",
    "    def __init__(self, max):\n",
    "        self.max = max\n",
    "        self.W = torch.tensor([[0.0]], requires_grad=True)\n",
    "        self.b = torch.tensor([[0.0]], requires_grad=True)\n",
    "\n",
    "    def f(self, x):\n",
    "        return 20 * torch.sigmoid((x @ self.W + self.b)) + 31\n",
    "\n",
    "    def loss(self, x, y):\n",
    "        return torch.nn.functional.mse_loss(self.f(x), y)"
   ],
   "outputs": [],
   "metadata": {}
  },
  {
   "cell_type": "code",
   "execution_count": 29,
   "source": [
    "model = NonLinearRegressionModel(train.shape[0])\n",
    "\n",
    "optimizer = torch.optim.SGD([model.b, model.W], 0.000001)\n",
    "for epoch in range(100000):\n",
    "    model.loss(train_x, train_y).backward() \n",
    "    optimizer.step() \n",
    "\n",
    "    optimizer.zero_grad()  \n",
    "\n",
    "print(\"W = %s, b = %s, loss = %s\" %(model.W, model.b, model.loss(train_x, train_y)))"
   ],
   "outputs": [
    {
     "output_type": "stream",
     "name": "stdout",
     "text": [
      "W = tensor([[0.0025]], requires_grad=True), b = tensor([[-0.1177]], requires_grad=True), loss = tensor(2.6798, grad_fn=<MseLossBackward>)\n"
     ]
    }
   ],
   "metadata": {}
  },
  {
   "cell_type": "code",
   "execution_count": 30,
   "source": [
    "plt.figure('Nonlinear regression 2d')\n",
    "plt.title('Predict head circumference zbased on age')\n",
    "plt.xlabel('x')\n",
    "plt.ylabel('y')\n",
    "x = torch.arange(torch.min(train_x), torch.max(train_x), 1.0).reshape(-1, 1)\n",
    "y = model.f(x).detach()\n",
    "plt.scatter(train_x, train_y)\n",
    "plt.plot(x, y, color='orange',\n",
    "         label='$f(x) = 20\\sigma(xW + b) + 31$ \\n$\\sigma(z) = \\dfrac{1}{1+e^{-z}}$')\n",
    "\n",
    "plt.legend()\n",
    "plt.show()"
   ],
   "outputs": [
    {
     "output_type": "display_data",
     "data": {
      "text/plain": [
       "Canvas(toolbar=Toolbar(toolitems=[('Home', 'Reset original view', 'home', 'home'), ('Back', 'Back to previous …"
      ],
      "application/vnd.jupyter.widget-view+json": {
       "version_major": 2,
       "version_minor": 0,
       "model_id": "d1610a649dc540f09b55dc38cf879331"
      }
     },
     "metadata": {}
    }
   ],
   "metadata": {}
  }
 ],
 "metadata": {
  "orig_nbformat": 4,
  "language_info": {
   "name": "python",
   "version": "3.8.10",
   "mimetype": "text/x-python",
   "codemirror_mode": {
    "name": "ipython",
    "version": 3
   },
   "pygments_lexer": "ipython3",
   "nbconvert_exporter": "python",
   "file_extension": ".py"
  },
  "kernelspec": {
   "name": "python3",
   "display_name": "Python 3.8.10 64-bit"
  },
  "interpreter": {
   "hash": "916dbcbb3f70747c44a77c7bcd40155683ae19c65e1c03b4aa3499c5328201f1"
  }
 },
 "nbformat": 4,
 "nbformat_minor": 2
}